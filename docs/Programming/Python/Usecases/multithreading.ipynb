{
 "cells": [
  {
   "cell_type": "markdown",
   "metadata": {},
   "source": [
    "Multithreading in Python allows you to run multiple threads (smaller units of a process) concurrently, which can be useful for I/O-bound tasks. Here's a high-level overview of how it works:\n",
    "\n",
    "1. **Thread Creation**: You create a thread by instantiating the `Thread` class from the `threading` module.\n",
    "2. **Thread Execution**: You start the thread using the `start()` method, which invokes the `run()` method of the thread.\n",
    "3. **Thread Synchronization**: You can use locks, semaphores, and other synchronization primitives to manage access to shared resources and avoid race conditions.\n",
    "4. **Thread Termination**: Threads can be joined using the `join()` method, which waits for the thread to complete."
   ]
  },
  {
   "cell_type": "code",
   "execution_count": null,
   "metadata": {},
   "outputs": [],
   "source": [
    "import threading\n",
    "import time\n",
    "\n",
    "def print_numbers():\n",
    "    for i in range(5):\n",
    "        print(f\"Number: {i}\")\n",
    "        time.sleep(1)\n",
    "\n",
    "def print_letters():\n",
    "    for letter in 'abcde':\n",
    "        print(f\"Letter: {letter}\")\n",
    "        time.sleep(1)\n",
    "\n",
    "# Create threads\n",
    "thread1 = threading.Thread(target=print_numbers)\n",
    "thread2 = threading.Thread(target=print_letters)\n",
    "\n",
    "# Start threads\n",
    "thread1.start()\n",
    "thread2.start()\n",
    "\n",
    "# Wait for threads to complete\n",
    "thread1.join()\n",
    "thread2.join()\n",
    "\n",
    "print(\"Done!\")"
   ]
  },
  {
   "cell_type": "markdown",
   "metadata": {},
   "source": [
    "Key Points:\n",
    "\n",
    "- **Global Interpreter Lock (GIL)**: Python's GIL allows only one thread to execute Python bytecode at a time, which can be a limitation for CPU-bound tasks. However, for I/O-bound tasks, multithreading can still be beneficial.\n",
    "- **Thread Safety**: When multiple threads access shared data, you need to ensure thread safety using synchronization mechanisms like locks.\n",
    "- **Alternatives**: For CPU-bound tasks, consider using multiprocessing instead of multithreading to bypass the GIL.\n",
    "\n",
    "This example demonstrates creating two threads that run concurrently, printing numbers and letters with a delay. The `join()` method ensures the main program waits for both threads to finish before printing \"Done!\"."
   ]
  }
 ],
 "metadata": {
  "kernelspec": {
   "display_name": ".venv",
   "language": "python",
   "name": "python3"
  },
  "language_info": {
   "codemirror_mode": {
    "name": "ipython",
    "version": 3
   },
   "file_extension": ".py",
   "mimetype": "text/x-python",
   "name": "python",
   "nbconvert_exporter": "python",
   "pygments_lexer": "ipython3",
   "version": "3.11.2"
  }
 },
 "nbformat": 4,
 "nbformat_minor": 2
}
