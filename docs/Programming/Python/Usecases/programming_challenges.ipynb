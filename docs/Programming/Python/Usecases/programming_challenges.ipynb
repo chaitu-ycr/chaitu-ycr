{
 "cells": [
  {
   "cell_type": "markdown",
   "metadata": {},
   "source": [
    "# Python Programming Challenges"
   ]
  },
  {
   "cell_type": "markdown",
   "metadata": {},
   "source": [
    "## find prime factors"
   ]
  },
  {
   "cell_type": "code",
   "execution_count": null,
   "metadata": {},
   "outputs": [],
   "source": [
    "# input: integer value\n",
    "# output: list of prime factors\n",
    "\n",
    "def get_prime_factors(n):\n",
    "    i = 2\n",
    "    factors = []\n",
    "    while i * i <= n:\n",
    "        if n % i:\n",
    "            i += 1\n",
    "        else:\n",
    "            n //= i\n",
    "            factors.append(i)\n",
    "    if n > 1:\n",
    "        factors.append(n)\n",
    "    return factors\n",
    "print(get_prime_factors(630))"
   ]
  },
  {
   "cell_type": "markdown",
   "metadata": {},
   "source": [
    "## identify palindrome"
   ]
  },
  {
   "cell_type": "code",
   "execution_count": null,
   "metadata": {},
   "outputs": [],
   "source": [
    "# write a python function to determine if a given string is a palindrome\n",
    "# Input: string to evaluate\n",
    "# Output: boolean value\n",
    "# only letters\n",
    "# ignore case\n",
    "# ignore special characters\n",
    "import re\n",
    "def is_palindrome(s):\n",
    "    s = re.sub(r'[^A-Za-z]', '', s).lower()\n",
    "    return s == s[::-1]\n",
    "\n",
    "print(is_palindrome('lev-el.'))"
   ]
  },
  {
   "cell_type": "markdown",
   "metadata": {},
   "source": [
    "## sort string"
   ]
  },
  {
   "cell_type": "code",
   "execution_count": null,
   "metadata": {},
   "outputs": [],
   "source": [
    "# write a python function to sort words in a sentence\n",
    "# Input: sentence\n",
    "# Output: sorted sentence\n",
    "\n",
    "def sort_sentence(s):\n",
    "    return ' '.join(sorted(s.split(), key=str.casefold))\n",
    "\n",
    "print(sort_sentence('this is a test'))"
   ]
  },
  {
   "cell_type": "markdown",
   "metadata": {},
   "source": [
    "## find all list items"
   ]
  },
  {
   "cell_type": "code",
   "execution_count": null,
   "metadata": {},
   "outputs": [],
   "source": [
    "# write a python function to index all items in a list\n",
    "# Input: list or list of lists and item to index\n",
    "# Output: indexes of item in list\n",
    "\n",
    "def index_all(lst, item):\n",
    "    indexes = []\n",
    "    for i, x in enumerate(lst):\n",
    "        if x == item:\n",
    "            indexes.append([i])\n",
    "        elif isinstance(lst[i], list):\n",
    "            for index in index_all(lst[i], item):\n",
    "                indexes.append([i] + index)\n",
    "    return indexes\n",
    "\n",
    "print(index_all([[[1, 2, 3], 2, [1, 3]], [1, 2, 3]], 3))"
   ]
  },
  {
   "cell_type": "markdown",
   "metadata": {},
   "source": [
    "## play the waiting game"
   ]
  },
  {
   "cell_type": "code",
   "execution_count": null,
   "metadata": {},
   "outputs": [],
   "source": [
    "# when the player presses enter timer starts and presses enter again timer stops and displays how long it took\n",
    "# write a python function to determine how long it took\n",
    "\n",
    "import time\n",
    "import random\n",
    "\n",
    "def time_elapsed():\n",
    "    target_time = random.randint(2, 5)\n",
    "    input(f'Press Enter to start. Target time is {target_time} seconds')\n",
    "    start = time.time()\n",
    "    input('Press Enter to stop')\n",
    "    end = time.time()\n",
    "    user_time = end - start\n",
    "    if user_time > target_time:\n",
    "        return 'Too slow by ' + str(user_time - target_time) + ' seconds'\n",
    "    elif user_time < target_time:\n",
    "        return 'Too fast by ' + str(target_time - user_time) + ' seconds'\n",
    "    else:\n",
    "        return 'Perfect! Just in time'\n",
    "    \n",
    "print(time_elapsed())"
   ]
  }
 ],
 "metadata": {
  "kernelspec": {
   "display_name": ".venv",
   "language": "python",
   "name": "python3"
  },
  "language_info": {
   "codemirror_mode": {
    "name": "ipython",
    "version": 3
   },
   "file_extension": ".py",
   "mimetype": "text/x-python",
   "name": "python",
   "nbconvert_exporter": "python",
   "pygments_lexer": "ipython3",
   "version": "3.11.2"
  }
 },
 "nbformat": 4,
 "nbformat_minor": 2
}
