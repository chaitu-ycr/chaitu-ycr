{
 "cells": [
  {
   "cell_type": "markdown",
   "metadata": {},
   "source": [
    "# What is Python Dash?\n",
    "\n",
    "Dash is a productive Python framework for building web applications. Written on top of Flask, Plotly.js, and React.js, Dash is ideal for building data visualization apps with highly customizable user interfaces in pure Python. It is particularly suited for anyone who works with data in Python."
   ]
  },
  {
   "cell_type": "markdown",
   "metadata": {},
   "source": [
    "## Simple Example with Button and Output Text\n",
    "\n",
    "Below is a simple example of a Dash application that includes a button and an output text. When the button is clicked, the text \"Hello, World!\" is displayed."
   ]
  },
  {
   "cell_type": "code",
   "execution_count": null,
   "metadata": {},
   "outputs": [],
   "source": [
    "import dash\n",
    "from dash import dcc\n",
    "from dash import html\n",
    "from dash.dependencies import Input, Output\n",
    "\n",
    "# Create a Dash app\n",
    "app = dash.Dash(__name__)\n",
    "\n",
    "# Define the layout\n",
    "app.layout = html.Div([\n",
    "    html.Button(\"Say Hello\", id=\"hello-button\"),\n",
    "    html.H3(id=\"output-label\")\n",
    "])\n",
    "\n",
    "# Callback to update the label when the button is pressed\n",
    "@app.callback(\n",
    "    Output(\"output-label\", \"children\"),\n",
    "    [Input(\"hello-button\", \"n_clicks\")]\n",
    ")\n",
    "def update_label(n_clicks):\n",
    "    if n_clicks:\n",
    "        return \"Hello, World!\"\n",
    "    else:\n",
    "        return \"\"\n",
    "\n",
    "if __name__ == \"__main__\":\n",
    "    app.run_server(debug=True)"
   ]
  }
 ],
 "metadata": {
  "kernelspec": {
   "display_name": ".venv",
   "language": "python",
   "name": "python3"
  },
  "language_info": {
   "codemirror_mode": {
    "name": "ipython",
    "version": 3
   },
   "file_extension": ".py",
   "mimetype": "text/x-python",
   "name": "python",
   "nbconvert_exporter": "python",
   "pygments_lexer": "ipython3",
   "version": "3.11.2"
  }
 },
 "nbformat": 4,
 "nbformat_minor": 2
}
