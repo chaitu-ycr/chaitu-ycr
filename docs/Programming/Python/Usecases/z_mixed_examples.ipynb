{
 "cells": [
  {
   "cell_type": "markdown",
   "metadata": {},
   "source": [
    "# list of python examples"
   ]
  },
  {
   "cell_type": "markdown",
   "metadata": {},
   "source": [
    "## handling text files\n",
    "\n",
    "handling text files is very easy.\n",
    "\n",
    "check below code to open and read any text file."
   ]
  },
  {
   "cell_type": "code",
   "execution_count": null,
   "metadata": {},
   "outputs": [],
   "source": [
    "# open, read lines and print\n",
    "text_file = '_data/dummy_file.txt'\n",
    "\n",
    "with open(text_file, 'r') as fh:\n",
    "    text_file_content = fh.readlines()\n",
    "    print(*text_file_content)"
   ]
  },
  {
   "cell_type": "markdown",
   "metadata": {},
   "source": [
    "## open site url in default web browser"
   ]
  },
  {
   "cell_type": "code",
   "execution_count": null,
   "metadata": {},
   "outputs": [],
   "source": [
    "# import package\n",
    "import webbrowser\n",
    "\n",
    "# open url using the default browser\n",
    "site_url = 'https://github.com/chaitu-ycr/python_notes'\n",
    "webbrowser.open(url=site_url)"
   ]
  }
 ],
 "metadata": {
  "kernelspec": {
   "display_name": ".venv",
   "language": "python",
   "name": "python3"
  },
  "language_info": {
   "codemirror_mode": {
    "name": "ipython",
    "version": 3
   },
   "file_extension": ".py",
   "mimetype": "text/x-python",
   "name": "python",
   "nbconvert_exporter": "python",
   "pygments_lexer": "ipython3",
   "version": "3.11.2"
  }
 },
 "nbformat": 4,
 "nbformat_minor": 2
}
