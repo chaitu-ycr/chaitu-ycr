{
 "cells": [
  {
   "cell_type": "markdown",
   "metadata": {},
   "source": [
    "# cantools\n",
    "\n",
    "## intro\n",
    "\n",
    "- In the world of Python and Controller Area Network (CAN) buses, `cantools` shines as a powerful library designed specifically for working with CAN message databases (DBC files).\n",
    "- It offers functionalities for parsing these databases, encoding and decoding CAN messages, and even generating C code for interacting with CAN buses.\n",
    "- Purpose\n",
    "    - `cantools` simplifies working with CAN messages by providing tools to handle DBC files, a common format for specifying CAN bus communication protocols.\n",
    "    - It acts as a bridge between the human-readable DBC format and the raw CAN message data used by CAN bus controllers.\n",
    "- Key Features\n",
    "    - DBC Parsing\n",
    "        - Loads and parses DBC files, extracting information about messages, signals, nodes, and network configurations.\n",
    "    - Message Encoding and Decoding\n",
    "        - Encodes Python data structures into CAN messages based on DBC specifications and decodes received CAN messages back into Python objects.\n",
    "    - C Code Generation\n",
    "        - Generates C source code that can be used to interact with CAN buses, including message packing and unpacking functions.\n",
    "    - Diagnostic Message Handling\n",
    "        - Supports decoding and encoding of diagnostic messages defined in DBC files using the J1939 standard.\n",
    "    - Command Line Interface (CLI)\n",
    "        - Provides a command-line tool (`candump`) for monitoring live CAN bus traffic and decoding messages based on a DBC file.\n",
    "- Benefits of Using `cantools`\n",
    "    - Simplified CAN Message Handling\n",
    "        - Abstracts the complexities of DBC file structure and CAN message details, making it easier to work with CAN communication.\n",
    "    - Efficient Data Encoding and Decoding\n",
    "        - Streamlines the process of converting between Python data and CAN message representations.\n",
    "    - C Code Generation for Embedded Systems\n",
    "        - Enables integration of CAN communication functionalities into C-based embedded systems projects.\n",
    "    - Live Bus Monitoring:\n",
    "        - The `candump` tool aids in debugging and analyzing CAN bus traffic.\n",
    "- Common Use Cases\n",
    "    - Developing CAN bus applications in Python\n",
    "        - Parse DBC files, encode/decode messages, and interact with CAN buses for data acquisition, control, and monitoring.\n",
    "    - Testing and Debugging CAN communication:\n",
    "        - Use `candump` to monitor live bus traffic and verify message formats based on DBC specifications.\n",
    "    - Reverse Engineering CAN bus protocols\n",
    "        - Analyze existing DBC files to understand the communication patterns of a CAN bus system.\n",
    "    - Generating C code for CAN communication in embedded systems\n",
    "        - Leverage the code generation feature to integrate CAN functionalities into C projects.\n",
    "- Relationship with `python-can`\n",
    "    - `cantools` complements python-can by focusing on the message definition and data aspects of CAN communication using DBC files.\n",
    "    - `python-can` handles the low-level details of sending and receiving CAN messages on the physical bus.\n",
    "- package installation command\n",
    "    ```\n",
    "    pip install cantools\n",
    "    ```"
   ]
  },
  {
   "cell_type": "markdown",
   "metadata": {},
   "source": [
    "## examples based on usecase"
   ]
  },
  {
   "cell_type": "markdown",
   "metadata": {},
   "source": [
    "### load CAN database and print nodes and messages"
   ]
  },
  {
   "cell_type": "code",
   "execution_count": null,
   "metadata": {},
   "outputs": [],
   "source": [
    "import cantools\n",
    "\n",
    "database_file_powertrain = './_data/can_powertrain.dbc'\n",
    "\n",
    "db_obj_powertrain = cantools.db.load_file(database_file_powertrain)\n",
    "\n",
    "print('Nodes')\n",
    "for node in db_obj_powertrain.nodes:\n",
    "    print(f'    {node.name}')\n",
    "print('Messages')\n",
    "for msg in db_obj_powertrain.messages:\n",
    "    print(f'    {msg.name}')"
   ]
  },
  {
   "cell_type": "markdown",
   "metadata": {},
   "source": [
    "### load CAN database and extract all messages and its signals into csv"
   ]
  },
  {
   "cell_type": "code",
   "execution_count": null,
   "metadata": {},
   "outputs": [],
   "source": [
    "import cantools\n",
    "import pandas as pd\n",
    "\n",
    "database_file_comfort = './_data/can_comfort.dbc'\n",
    "database_file_powertrain = './_data/can_powertrain.dbc'\n",
    "\n",
    "csv_export_file_comfort = './_output/csv_comfort.csv'\n",
    "csv_export_file_powertrain = './_output/csv_powertrain.csv'\n",
    "\n",
    "db_obj_comfort = cantools.db.load_file(database_file_comfort)\n",
    "db_obj_powertrain = cantools.db.load_file(database_file_powertrain)\n",
    "\n",
    "dict_comfort = {'message_name': list(), 'message_id': list(), 'signal_name': list()}\n",
    "dict_powertrain = {'message_name': list(), 'message_id': list(), 'signal_name': list()}\n",
    "\n",
    "for msg in db_obj_comfort.messages:\n",
    "    for sig in msg.signals:\n",
    "        dict_comfort['message_name'].append(msg.name)\n",
    "        dict_comfort['message_id'].append(msg.frame_id)\n",
    "        dict_comfort['signal_name'].append(sig.name)\n",
    "for msg in db_obj_powertrain.messages:\n",
    "    for sig in msg.signals:\n",
    "        dict_powertrain['message_name'].append(msg.name)\n",
    "        dict_powertrain['message_id'].append(msg.frame_id)\n",
    "        dict_powertrain['signal_name'].append(sig.name)\n",
    "\n",
    "dataframe_comfort = pd.DataFrame.from_dict(dict_comfort)\n",
    "dataframe_powertrain = pd.DataFrame.from_dict(dict_powertrain)\n",
    "\n",
    "dataframe_comfort.to_csv(csv_export_file_comfort)\n",
    "dataframe_powertrain.to_csv(csv_export_file_powertrain)"
   ]
  },
  {
   "cell_type": "markdown",
   "metadata": {},
   "source": [
    "### from can log file extract can message signals information to csv and plot one signal"
   ]
  },
  {
   "cell_type": "code",
   "execution_count": null,
   "metadata": {},
   "outputs": [],
   "source": [
    "import can\n",
    "import cantools\n",
    "import pandas as pd\n",
    "import plotly.express as px\n",
    "\n",
    "database_file_powertrain = './_data/can_powertrain.dbc'\n",
    "can_log_file = './_data/can_log_file.blf'   # CAN channel 1 has powertrain data and CAN channel 0 has comfort data\n",
    "\n",
    "can_log_file_data_obj = can.BLFReader(can_log_file)\n",
    "\n",
    "db_obj_powertrain = cantools.db.load_file(database_file_powertrain)\n",
    "\n",
    "engine_message_id = 100\n",
    "engine_message_data = {'message_timestamp': list()}\n",
    "for msg in can_log_file_data_obj:\n",
    "    if msg.channel == 1 and msg.arbitration_id == engine_message_id:\n",
    "        decoded_message_data = db_obj_powertrain.decode_message(msg.arbitration_id, msg.data, decode_choices=False)\n",
    "        engine_message_data['message_timestamp'].append(msg.timestamp)\n",
    "        for signal_name, signal_value in decoded_message_data.items():\n",
    "            if signal_name not in engine_message_data.keys():\n",
    "                engine_message_data[signal_name] = list()\n",
    "            engine_message_data[signal_name].append(signal_value)\n",
    "\n",
    "dataframe_engine_message = pd.DataFrame.from_dict(engine_message_data)\n",
    "\n",
    "# export powertrain engine message to csv file\n",
    "csv_export_file_engine_message = './_output/csv_engine_message.csv'\n",
    "dataframe_engine_message.to_csv(csv_export_file_engine_message)\n",
    "\n",
    "# plot engine speed from powertrain engine message\n",
    "fig = px.line(dataframe_engine_message, x='message_timestamp', y='EngSpeed', title='Engine Speed')\n",
    "fig.show()\n"
   ]
  }
 ],
 "metadata": {
  "kernelspec": {
   "display_name": ".venv",
   "language": "python",
   "name": "python3"
  },
  "language_info": {
   "codemirror_mode": {
    "name": "ipython",
    "version": 3
   },
   "file_extension": ".py",
   "mimetype": "text/x-python",
   "name": "python",
   "nbconvert_exporter": "python",
   "pygments_lexer": "ipython3",
   "version": "3.12.1"
  }
 },
 "nbformat": 4,
 "nbformat_minor": 2
}
