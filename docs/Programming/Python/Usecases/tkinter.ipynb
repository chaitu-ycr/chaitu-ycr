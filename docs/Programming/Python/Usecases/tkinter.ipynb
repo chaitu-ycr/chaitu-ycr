{
 "cells": [
  {
   "cell_type": "markdown",
   "metadata": {},
   "source": [
    "Sure! Tkinter is the standard GUI (Graphical User Interface) library for Python. It provides a fast and easy way to create GUI applications. Tkinter is included with Python, so you don't need to install anything extra to use it.\n",
    "\n",
    "Here are some key concepts and components of Tkinter:\n",
    "\n",
    "1. **Tkinter Module**: The main module that you need to import to use Tkinter.\n",
    "\n",
    "2. **Widgets**: These are the building blocks of a GUI application. Common widgets include:\n",
    "   - `Label`: Displays text or images.\n",
    "   - `Button`: A clickable button.\n",
    "   - `Entry`: A text entry field.\n",
    "   - `Text`: A multi-line text entry field.\n",
    "   - `Frame`: A container to hold other widgets.\n",
    "\n",
    "3. **Geometry Managers**: These control the placement of widgets within a window. The main geometry managers are:\n",
    "   - `pack()`: Packs widgets into a frame or window.\n",
    "   - `grid()`: Places widgets in a grid layout.\n",
    "   - `place()`: Places widgets at an absolute position.\n",
    "\n",
    "4. **Event Handling**: Tkinter allows you to bind functions to events, such as button clicks or key presses."
   ]
  },
  {
   "cell_type": "code",
   "execution_count": 1,
   "metadata": {},
   "outputs": [],
   "source": [
    "import tkinter as tk\n",
    "\n",
    "# Create the main window\n",
    "root = tk.Tk()\n",
    "root.title(\"Simple Tkinter App\")\n",
    "\n",
    "# Create a label widget\n",
    "label = tk.Label(root, text=\"Hello, Tkinter!\")\n",
    "label.pack()\n",
    "\n",
    "# Create a button widget\n",
    "def on_button_click():\n",
    "    label.config(text=\"Button Clicked!\")\n",
    "\n",
    "button = tk.Button(root, text=\"Click Me\", command=on_button_click)\n",
    "button.pack()\n",
    "\n",
    "# Run the application\n",
    "root.mainloop()"
   ]
  },
  {
   "cell_type": "markdown",
   "metadata": {},
   "source": [
    "Explanation:\n",
    "\n",
    "1. **Importing Tkinter**: `import tkinter as tk` imports the Tkinter module and gives it the alias `tk`.\n",
    "2. **Creating the Main Window**: `root = tk.Tk()` creates the main application window.\n",
    "3. **Setting the Window Title**: `root.title(\"Simple Tkinter App\")` sets the title of the window.\n",
    "4. **Creating a Label**: `label = tk.Label(root, text=\"Hello, Tkinter!\")` creates a label widget with the text \"Hello, Tkinter!\".\n",
    "5. **Packing the Label**: `label.pack()` adds the label to the window.\n",
    "6. **Creating a Button**: `button = tk.Button(root, text=\"Click Me\", command=on_button_click)` creates a button that calls the `on_button_click` function when clicked.\n",
    "7. **Packing the Button**: `button.pack()` adds the button to the window.\n",
    "8. **Running the Application**: `root.mainloop()` starts the Tkinter event loop, which waits for user interaction."
   ]
  }
 ],
 "metadata": {
  "kernelspec": {
   "display_name": ".venv",
   "language": "python",
   "name": "python3"
  },
  "language_info": {
   "codemirror_mode": {
    "name": "ipython",
    "version": 3
   },
   "file_extension": ".py",
   "mimetype": "text/x-python",
   "name": "python",
   "nbconvert_exporter": "python",
   "pygments_lexer": "ipython3",
   "version": "3.11.2"
  }
 },
 "nbformat": 4,
 "nbformat_minor": 2
}
