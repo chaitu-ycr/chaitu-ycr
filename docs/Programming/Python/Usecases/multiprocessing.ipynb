{
 "cells": [
  {
   "cell_type": "markdown",
   "metadata": {},
   "source": [
    "Multiprocessing in Python allows you to create multiple processes, each with its own Python interpreter and memory space. This is particularly useful for CPU-bound tasks, as it can take advantage of multiple CPU cores to perform tasks in parallel, thereby improving performance.\n",
    "\n",
    "Here's a step-by-step explanation of how multiprocessing works in Python:\n",
    "\n",
    "1. **Import the `multiprocessing` module**: This module provides the necessary functions and classes to create and manage processes.\n",
    "\n",
    "2. **Create a `Process` object**: You can create a new process by instantiating the `Process` class and passing the target function and its arguments.\n",
    "\n",
    "3. **Start the process**: Use the `start()` method to start the execution of the process.\n",
    "\n",
    "4. **Wait for the process to complete**: Use the `join()` method to wait for the process to finish its execution.\n",
    "\n",
    "5. **Share data between processes**: You can use `Queue`, `Pipe`, or shared memory objects like `Value` and `Array` to share data between processes.\n"
   ]
  },
  {
   "cell_type": "code",
   "execution_count": null,
   "metadata": {},
   "outputs": [],
   "source": [
    "import multiprocessing\n",
    "import time\n",
    "\n",
    "def worker(num):\n",
    "    \"\"\"Thread worker function\"\"\"\n",
    "    print(f'Worker: {num}')\n",
    "    time.sleep(2)\n",
    "    print(f'Worker {num} finished')\n",
    "\n",
    "if __name__ == '__main__':\n",
    "    processes = []\n",
    "    for i in range(5):\n",
    "        p = multiprocessing.Process(target=worker, args=(i,))\n",
    "        processes.append(p)\n",
    "        p.start()\n",
    "\n",
    "    for p in processes:\n",
    "        p.join()\n",
    "\n",
    "    print('All processes finished.')"
   ]
  },
  {
   "cell_type": "markdown",
   "metadata": {},
   "source": [
    "\n",
    "Explanation:\n",
    "\n",
    "1. **Import the module**: `import multiprocessing`\n",
    "2. **Define the worker function**: This function will be executed by each process.\n",
    "3. **Create and start processes**: In the `if __name__ == '__main__':` block, we create and start multiple processes.\n",
    "4. **Join processes**: We wait for all processes to complete using the `join()` method.\n",
    "\n",
    "Key Points:\n",
    "\n",
    "- **Global Interpreter Lock (GIL)**: Python's GIL can be a bottleneck for multi-threading, but multiprocessing bypasses this by using separate memory space for each process.\n",
    "- **Overhead**: Creating processes has more overhead compared to threads, so it's best used for CPU-bound tasks.\n",
    "- **Data Sharing**: Use `Queue`, `Pipe`, `Value`, or `Array` for sharing data between processes.\n",
    "\n",
    "This is a basic introduction to multiprocessing in Python. There are more advanced features and techniques, such as using `Pool` for managing a pool of worker processes, which can further simplify parallel execution."
   ]
  }
 ],
 "metadata": {
  "kernelspec": {
   "display_name": ".venv",
   "language": "python",
   "name": "python3"
  },
  "language_info": {
   "codemirror_mode": {
    "name": "ipython",
    "version": 3
   },
   "file_extension": ".py",
   "mimetype": "text/x-python",
   "name": "python",
   "nbconvert_exporter": "python",
   "pygments_lexer": "ipython3",
   "version": "3.11.2"
  }
 },
 "nbformat": 4,
 "nbformat_minor": 2
}
