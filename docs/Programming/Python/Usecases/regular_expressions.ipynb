{
 "cells": [
  {
   "cell_type": "markdown",
   "metadata": {},
   "source": [
    "A Python regular expression (regex) is a powerful tool for matching patterns in text. It allows you to search, match, and manipulate strings based on specific patterns. Regular expressions are used for tasks such as validating input, searching for specific patterns within text, and replacing substrings.\n",
    "\n",
    "In Python, the `re` module provides support for working with regular expressions. Here are some key concepts and functions:\n",
    "\n",
    "1. **Basic Syntax**:\n",
    "   - `.`: Matches any character except a newline.\n",
    "   - `^`: Matches the start of a string.\n",
    "   - `$`: Matches the end of a string.\n",
    "   - `*`: Matches 0 or more repetitions of the preceding element.\n",
    "   - `+`: Matches 1 or more repetitions of the preceding element.\n",
    "   - `?`: Matches 0 or 1 repetition of the preceding element.\n",
    "   - `{m,n}`: Matches between m and n repetitions of the preceding element.\n",
    "\n",
    "2. **Common Functions**:\n",
    "   - `re.match()`: Checks for a match only at the beginning of the string.\n",
    "   - `re.search()`: Searches for the first occurrence of the pattern in the string.\n",
    "   - `re.findall()`: Returns a list of all non-overlapping matches in the string.\n",
    "   - `re.sub()`: Replaces occurrences of the pattern with a replacement string.\n",
    "\n",
    "Regular expressions can be complex, but they are extremely useful for text processing tasks."
   ]
  },
  {
   "cell_type": "code",
   "execution_count": null,
   "metadata": {},
   "outputs": [],
   "source": [
    "import re\n",
    "\n",
    "# Example 1: Matching a simple pattern\n",
    "pattern = r'\\d+'  # Matches one or more digits\n",
    "text = \"There are 123 apples and 456 oranges.\"\n",
    "matches = re.findall(pattern, text)\n",
    "print(\"Example 1:\", matches)  # Output: ['123', '456']\n",
    "\n",
    "# Example 2: Using groups to capture specific parts of the pattern\n",
    "pattern = r'(\\d+)\\s(apples|oranges)'  # Matches digits followed by 'apples' or 'oranges'\n",
    "matches = re.findall(pattern, text)\n",
    "print(\"Example 2:\", matches)  # Output: [('123', 'apples'), ('456', 'oranges')]\n",
    "\n",
    "# Example 3: Using re.sub to replace patterns\n",
    "pattern = r'\\d+'  # Matches one or more digits\n",
    "replacement = '#'\n",
    "result = re.sub(pattern, replacement, text)\n",
    "print(\"Example 3:\", result)  # Output: \"There are # apples and # oranges.\"\n",
    "\n",
    "# Example 4: Using re.split to split a string by a pattern\n",
    "pattern = r'\\s+'  # Matches one or more whitespace characters\n",
    "result = re.split(pattern, text)\n",
    "print(\"Example 4:\", result)  # Output: ['There', 'are', '123', 'apples', 'and', '456', 'oranges.']\n",
    "\n",
    "# Example 5: Using re.match to match a pattern at the beginning of a string\n",
    "pattern = r'There'\n",
    "match = re.match(pattern, text)\n",
    "print(\"Example 5:\", match.group() if match else \"No match\")  # Output: \"There\"\n",
    "\n",
    "# Example 6: Using re.search to search for a pattern anywhere in the string\n",
    "pattern = r'apples'\n",
    "match = re.search(pattern, text)\n",
    "print(\"Example 6:\", match.group() if match else \"No match\")  # Output: \"apples\"\n",
    "\n",
    "# Example 7: Using re.compile to compile a regular expression pattern for reuse\n",
    "pattern = re.compile(r'\\d+')\n",
    "matches = pattern.findall(text)\n",
    "print(\"Example 7:\", matches)  # Output: ['123', '456']"
   ]
  }
 ],
 "metadata": {
  "kernelspec": {
   "display_name": ".venv",
   "language": "python",
   "name": "python3"
  },
  "language_info": {
   "codemirror_mode": {
    "name": "ipython",
    "version": 3
   },
   "file_extension": ".py",
   "mimetype": "text/x-python",
   "name": "python",
   "nbconvert_exporter": "python",
   "pygments_lexer": "ipython3",
   "version": "3.11.2"
  }
 },
 "nbformat": 4,
 "nbformat_minor": 2
}
